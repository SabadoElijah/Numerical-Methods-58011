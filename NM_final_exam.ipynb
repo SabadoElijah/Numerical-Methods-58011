{
  "nbformat": 4,
  "nbformat_minor": 0,
  "metadata": {
    "colab": {
      "name": "NM final exam.ipynb",
      "provenance": [],
      "authorship_tag": "ABX9TyMrD08s85mdbMFDjpN15Ohg",
      "include_colab_link": true
    },
    "kernelspec": {
      "name": "python3",
      "display_name": "Python 3"
    },
    "language_info": {
      "name": "python"
    }
  },
  "cells": [
    {
      "cell_type": "markdown",
      "metadata": {
        "id": "view-in-github",
        "colab_type": "text"
      },
      "source": [
        "<a href=\"https://colab.research.google.com/github/jhiasab27/Numerical-Methods-58011/blob/main/NM_final_exam.ipynb\" target=\"_parent\"><img src=\"https://colab.research.google.com/assets/colab-badge.svg\" alt=\"Open In Colab\"/></a>"
      ]
    },
    {
      "cell_type": "markdown",
      "source": [
        "###Problem 3. Create a Python program that integrates the function f(x) = e^x  from x1=-1 to x2 = 1 as the interval. Save your program to your repository and send your GitHub link here. (30 points)"
      ],
      "metadata": {
        "id": "R8JJbNASz_DI"
      }
    },
    {
      "cell_type": "code",
      "execution_count": 2,
      "metadata": {
        "colab": {
          "base_uri": "https://localhost:8080/"
        },
        "id": "nutFaDPSyh7i",
        "outputId": "935df7a0-2a68-4727-90c2-59aaf77e4ae6"
      },
      "outputs": [
        {
          "output_type": "stream",
          "name": "stdout",
          "text": [
            "Integral = 2.8\n"
          ]
        }
      ],
      "source": [
        "import math\n",
        "def f(x): return math.exp(x) #define function\n",
        "\n",
        "a = -1\n",
        "b = 1\n",
        "n = 3 #number of values; assumed number of values since there is no given\n",
        "h = (b-a)/n   #width of the trapezoid\n",
        "S = h*(f(a)+f(b))    #beginning value of summation\n",
        "for i in range(1,n):\n",
        "    S+=f(a+i*h)\n",
        "Integral = h*S\n",
        "print('Integral = %.1f' %Integral)"
      ]
    }
  ]
}