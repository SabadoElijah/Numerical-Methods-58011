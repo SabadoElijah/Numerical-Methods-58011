{
  "nbformat": 4,
  "nbformat_minor": 0,
  "metadata": {
    "colab": {
      "name": "Control & Loop statements (NM 2/2/22).ipynb",
      "provenance": [],
      "authorship_tag": "ABX9TyN+cTq/ssopdqFTq9Si755A",
      "include_colab_link": true
    },
    "kernelspec": {
      "name": "python3",
      "display_name": "Python 3"
    },
    "language_info": {
      "name": "python"
    }
  },
  "cells": [
    {
      "cell_type": "markdown",
      "metadata": {
        "id": "view-in-github",
        "colab_type": "text"
      },
      "source": [
        "<a href=\"https://colab.research.google.com/github/jhiasab27/Numerical-Methods-58011/blob/main/Control_%26_Loop_statements_(NM_2_2_22).ipynb\" target=\"_parent\"><img src=\"https://colab.research.google.com/assets/colab-badge.svg\" alt=\"Open In Colab\"/></a>"
      ]
    },
    {
      "cell_type": "markdown",
      "source": [
        "##if statement"
      ],
      "metadata": {
        "id": "vqjWsDuab1Fm"
      }
    },
    {
      "cell_type": "code",
      "execution_count": 24,
      "metadata": {
        "id": "NXVb1SsAbcQh"
      },
      "outputs": [],
      "source": [
        "a=100\n",
        "b=100\n",
        "\n",
        "if b>a:\n",
        "  print(\"b is greater than a\")"
      ]
    },
    {
      "cell_type": "markdown",
      "source": [
        "##elif statement"
      ],
      "metadata": {
        "id": "D4Y7Gjchc6bH"
      }
    },
    {
      "cell_type": "code",
      "source": [
        "if b>a:\n",
        "  print(\"b is greater than a\")\n",
        "\n",
        "elif a>b:\n",
        "  print(\"a is greater than b\")"
      ],
      "metadata": {
        "colab": {
          "base_uri": "https://localhost:8080/"
        },
        "id": "fsGvM84wc8OF",
        "outputId": "ecb4072c-7b21-45a0-8bea-a698f23c4e1c"
      },
      "execution_count": 46,
      "outputs": [
        {
          "output_type": "stream",
          "name": "stdout",
          "text": [
            "b is greater than a\n"
          ]
        }
      ]
    },
    {
      "cell_type": "markdown",
      "source": [
        "##else statament"
      ],
      "metadata": {
        "id": "MByDShDvdgNm"
      }
    },
    {
      "cell_type": "code",
      "source": [
        "if b>a:\n",
        "  print(\"b is greater than a\")\n",
        "elif a>b:\n",
        "  print(\"a is greater than b\")\n",
        "else:\n",
        "  print(\"a is equal to b\")"
      ],
      "metadata": {
        "colab": {
          "base_uri": "https://localhost:8080/"
        },
        "id": "g7T7LilVdidf",
        "outputId": "c1d3c100-4206-4be0-a135-3dde8f0d3a6d"
      },
      "execution_count": 26,
      "outputs": [
        {
          "output_type": "stream",
          "name": "stdout",
          "text": [
            "a is equal to b\n"
          ]
        }
      ]
    },
    {
      "cell_type": "markdown",
      "source": [
        "##short hand if statement"
      ],
      "metadata": {
        "id": "53VGjtlfeDoH"
      }
    },
    {
      "cell_type": "code",
      "source": [
        "a=12\n",
        "b=100\n",
        "if b>a:print(\"b is greater than a\")"
      ],
      "metadata": {
        "colab": {
          "base_uri": "https://localhost:8080/"
        },
        "id": "O-EfOzIkeGOj",
        "outputId": "5bac14ce-bf53-4b6e-9d8b-f4b45bd98e1b"
      },
      "execution_count": 27,
      "outputs": [
        {
          "output_type": "stream",
          "name": "stdout",
          "text": [
            "b is greater than a\n"
          ]
        }
      ]
    },
    {
      "cell_type": "markdown",
      "source": [
        "##short hand if.. else statement"
      ],
      "metadata": {
        "id": "rjL6M_eAedY_"
      }
    },
    {
      "cell_type": "code",
      "source": [
        "c=35\n",
        "d=40\n",
        "\n",
        "print(\"c is greater than d\") if c>d else print(\"d is greater than c\")"
      ],
      "metadata": {
        "colab": {
          "base_uri": "https://localhost:8080/"
        },
        "id": "fNSxja_0ehSd",
        "outputId": "f260362c-a168-46fe-a958-1097022f266f"
      },
      "execution_count": 28,
      "outputs": [
        {
          "output_type": "stream",
          "name": "stdout",
          "text": [
            "d is greater than c\n"
          ]
        }
      ]
    },
    {
      "cell_type": "markdown",
      "source": [
        "## and logic-if both statements or operands are true"
      ],
      "metadata": {
        "id": "8z2_ighYgEx9"
      }
    },
    {
      "cell_type": "code",
      "source": [
        "c=35\n",
        "d=40\n",
        "e=30\n",
        "\n",
        "if d>c and c>e:\n",
        "  print(\"both conditions must be true\")"
      ],
      "metadata": {
        "colab": {
          "base_uri": "https://localhost:8080/"
        },
        "id": "g8iLtaEngObI",
        "outputId": "d9253908-691c-45c9-c36f-62c7437d54e5"
      },
      "execution_count": 32,
      "outputs": [
        {
          "output_type": "stream",
          "name": "stdout",
          "text": [
            "both conditions must be true\n"
          ]
        }
      ]
    },
    {
      "cell_type": "markdown",
      "source": [
        "##or logic- if one of the operands is true"
      ],
      "metadata": {
        "id": "I2MI1mv9gaEU"
      }
    },
    {
      "cell_type": "code",
      "source": [
        "if d>c or e>c:\n",
        "  print(\"if one of the two operands is true\")"
      ],
      "metadata": {
        "colab": {
          "base_uri": "https://localhost:8080/"
        },
        "id": "JN-x3fHsgfN5",
        "outputId": "1a5435fb-4c88-4ebb-837c-a88b2ef9a6f6"
      },
      "execution_count": 29,
      "outputs": [
        {
          "output_type": "stream",
          "name": "stdout",
          "text": [
            "if one of the two operands is true\n"
          ]
        }
      ]
    },
    {
      "cell_type": "markdown",
      "source": [
        "##nested if"
      ],
      "metadata": {
        "id": "7GixlzBzhKlk"
      }
    },
    {
      "cell_type": "code",
      "source": [
        "x=int(input())\n",
        "\n",
        "if x>10:\n",
        "  print(\"x is above 10\")\n",
        "  if x>20:\n",
        "    print(\"x is above 20\")\n",
        "    if x>30:\n",
        "      print(\"x is above 30\")\n",
        "      if x>40:\n",
        "        print(\"x is above 40\")\n",
        "      else:\n",
        "        print(\"x is not above 40\")\n",
        "  else:\n",
        "    print(\"x is not above 20\")"
      ],
      "metadata": {
        "colab": {
          "base_uri": "https://localhost:8080/"
        },
        "id": "MK0nB5UHhL6f",
        "outputId": "9b400db4-7f59-48cd-8a2b-23471670401c"
      },
      "execution_count": 38,
      "outputs": [
        {
          "output_type": "stream",
          "name": "stdout",
          "text": [
            "45\n",
            "x is above 10\n",
            "x is above 20\n",
            "x is above 30\n",
            "x is above 40\n"
          ]
        }
      ]
    },
    {
      "cell_type": "markdown",
      "source": [
        "##application 1: Write a program that determines if the input age is qualified to vote or not. The qualifying age is 18 yrs old and above."
      ],
      "metadata": {
        "id": "TL6fg2AGinf6"
      }
    },
    {
      "cell_type": "code",
      "source": [
        "age=int(input())\n",
        "if age>=18:\n",
        "  print(\"you are qualified to vote\")\n",
        "else:\n",
        "  print(\"you are not qualified to vote\")"
      ],
      "metadata": {
        "colab": {
          "base_uri": "https://localhost:8080/"
        },
        "id": "YdPZvX9Mi6eS",
        "outputId": "00f58967-459c-4c4c-aa75-25f1720cbc1c"
      },
      "execution_count": 40,
      "outputs": [
        {
          "output_type": "stream",
          "name": "stdout",
          "text": [
            "18\n",
            "you are qualified to vote\n"
          ]
        }
      ]
    },
    {
      "cell_type": "markdown",
      "source": [
        "##application 2: write a program that determines if the number is postive, negative, or zero."
      ],
      "metadata": {
        "id": "Rh6a8RMAjp-f"
      }
    },
    {
      "cell_type": "code",
      "source": [
        "num=int(input())\n",
        "\n",
        "if num>0:\n",
        "  print(\"number is positive\")\n",
        "elif num==0:\n",
        "  print(\"number is zero\")\n",
        "else:\n",
        "  print(\"number is negative\")\n"
      ],
      "metadata": {
        "colab": {
          "base_uri": "https://localhost:8080/"
        },
        "id": "IX79Ly_hj3Y8",
        "outputId": "67a146db-fb18-49d1-ba22-28d3ffec566e"
      },
      "execution_count": 75,
      "outputs": [
        {
          "output_type": "stream",
          "name": "stdout",
          "text": [
            "-1\n",
            "number is negative\n"
          ]
        }
      ]
    },
    {
      "cell_type": "markdown",
      "source": [
        "##for loop statement"
      ],
      "metadata": {
        "id": "fY9v7EZdk3Py"
      }
    },
    {
      "cell_type": "code",
      "source": [
        "week=[\"Sunday\",\"Monday\",\"Tuesday\",\"Wednesday\",\"Thursday\",\"Friday\",\"Saturday\"]\n",
        "for x in week:\n",
        "  print(x)"
      ],
      "metadata": {
        "colab": {
          "base_uri": "https://localhost:8080/"
        },
        "id": "RoNWpDp_oVRC",
        "outputId": "f6797b76-08cd-4be2-9334-dba984cc8deb"
      },
      "execution_count": 85,
      "outputs": [
        {
          "output_type": "stream",
          "name": "stdout",
          "text": [
            "Sunday\n",
            "Monday\n",
            "Tuesday\n",
            "Wednesday\n",
            "Thursday\n",
            "Friday\n",
            "Saturday\n"
          ]
        }
      ]
    },
    {
      "cell_type": "markdown",
      "source": [
        "##the break statement"
      ],
      "metadata": {
        "id": "Fo3vnXHAotZg"
      }
    },
    {
      "cell_type": "code",
      "source": [
        "week=[\"Sunday\",\"Monday\",\"Tuesday\",\"Wednesday\",\"Thursday\",\"Friday\",\"Saturday\"]\n",
        "for x in week:\n",
        "  print(x)\n",
        "\n",
        "  if x==\"Thursday\":\n",
        "    break"
      ],
      "metadata": {
        "colab": {
          "base_uri": "https://localhost:8080/"
        },
        "id": "col0lruzovMu",
        "outputId": "c8b65a21-b58b-448a-fc66-875c4961c591"
      },
      "execution_count": 97,
      "outputs": [
        {
          "output_type": "stream",
          "name": "stdout",
          "text": [
            "Sunday\n",
            "Monday\n",
            "Tuesday\n",
            "Wednesday\n",
            "Thursday\n"
          ]
        }
      ]
    },
    {
      "cell_type": "markdown",
      "source": [
        "##while loop"
      ],
      "metadata": {
        "id": "Tg6KL5VbqHnY"
      }
    },
    {
      "cell_type": "code",
      "source": [
        "y=3\n",
        "\n",
        "while y<6:\n",
        "  print(y)\n",
        "  if y==3:\n",
        "    break\n",
        "  y+=1 #same as y=y+1"
      ],
      "metadata": {
        "colab": {
          "base_uri": "https://localhost:8080/"
        },
        "id": "0tqGnQB9qJy1",
        "outputId": "a003a6d0-be98-48f5-b838-51bab4623d52"
      },
      "execution_count": 98,
      "outputs": [
        {
          "output_type": "stream",
          "name": "stdout",
          "text": [
            "3\n"
          ]
        }
      ]
    }
  ]
}